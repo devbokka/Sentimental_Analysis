{
 "cells": [
  {
   "cell_type": "code",
   "execution_count": 2,
   "metadata": {},
   "outputs": [
    {
     "name": "stdout",
     "output_type": "stream",
     "text": [
      "Requirement already satisfied: nltk in c:\\users\\devay\\appdata\\local\\anaconda3\\lib\\site-packages (3.8.1)\n",
      "Requirement already satisfied: click in c:\\users\\devay\\appdata\\local\\anaconda3\\lib\\site-packages (from nltk) (8.0.4)\n",
      "Requirement already satisfied: joblib in c:\\users\\devay\\appdata\\local\\anaconda3\\lib\\site-packages (from nltk) (1.2.0)\n",
      "Requirement already satisfied: regex>=2021.8.3 in c:\\users\\devay\\appdata\\local\\anaconda3\\lib\\site-packages (from nltk) (2022.7.9)\n",
      "Requirement already satisfied: tqdm in c:\\users\\devay\\appdata\\local\\anaconda3\\lib\\site-packages (from nltk) (4.65.0)\n",
      "Requirement already satisfied: colorama in c:\\users\\devay\\appdata\\local\\anaconda3\\lib\\site-packages (from click->nltk) (0.4.6)\n",
      "Note: you may need to restart the kernel to use updated packages.\n",
      "Requirement already satisfied: scikit-learn in c:\\users\\devay\\appdata\\local\\anaconda3\\lib\\site-packages (1.3.2)\n",
      "Requirement already satisfied: numpy<2.0,>=1.17.3 in c:\\users\\devay\\appdata\\local\\anaconda3\\lib\\site-packages (from scikit-learn) (1.26.2)\n",
      "Requirement already satisfied: scipy>=1.5.0 in c:\\users\\devay\\appdata\\local\\anaconda3\\lib\\site-packages (from scikit-learn) (1.11.1)\n",
      "Requirement already satisfied: joblib>=1.1.1 in c:\\users\\devay\\appdata\\local\\anaconda3\\lib\\site-packages (from scikit-learn) (1.2.0)\n",
      "Requirement already satisfied: threadpoolctl>=2.0.0 in c:\\users\\devay\\appdata\\local\\anaconda3\\lib\\site-packages (from scikit-learn) (2.2.0)\n",
      "Note: you may need to restart the kernel to use updated packages.\n"
     ]
    }
   ],
   "source": [
    "%pip install nltk\n",
    "%pip install scikit-learn"
   ]
  },
  {
   "cell_type": "code",
   "execution_count": null,
   "metadata": {},
   "outputs": [
    {
     "name": "stderr",
     "output_type": "stream",
     "text": [
      "[nltk_data] Downloading package stopwords to\n",
      "[nltk_data]     C:\\Users\\devay\\AppData\\Roaming\\nltk_data...\n",
      "[nltk_data]   Package stopwords is already up-to-date!\n",
      "[nltk_data] Downloading package punkt to\n",
      "[nltk_data]     C:\\Users\\devay\\AppData\\Roaming\\nltk_data...\n",
      "[nltk_data]   Package punkt is already up-to-date!\n"
     ]
    },
    {
     "data": {
      "text/plain": [
       "True"
      ]
     },
     "execution_count": 7,
     "metadata": {},
     "output_type": "execute_result"
    }
   ],
   "source": [
    "import nltk\n",
    "nltk.download('stopwords')\n",
    "nltk.download('punkt')"
   ]
  },
  {
   "cell_type": "code",
   "execution_count": 11,
   "metadata": {},
   "outputs": [
    {
     "name": "stdout",
     "output_type": "stream",
     "text": [
      "Model Accuracy on Test Set: 0.25\n",
      "\n",
      "Sentiment Analysis Interactive Tester\n",
      "Enter a sentence to get its sentiment (type 'quit' to exit).\n",
      "Sentiment: POSITIVE\n",
      "Sentiment: POSITIVE\n",
      "Sentiment: NEUTRAL\n",
      "Exiting sentiment analysis tester. Goodbye!\n"
     ]
    }
   ],
   "source": [
    "\n",
    "import nltk\n",
    "from nltk.corpus import stopwords\n",
    "from nltk.tokenize import word_tokenize\n",
    "from sklearn.feature_extraction.text import TfidfVectorizer\n",
    "from sklearn.linear_model import LogisticRegression\n",
    "from sklearn.model_selection import train_test_split\n",
    "from sklearn.metrics import accuracy_score\n",
    "import re\n",
    "\n",
    "\n",
    "try:\n",
    "    nltk.data.find('corpora/stopwords')\n",
    "except nltk.downloader.DownloadError:\n",
    "    nltk.download('stopwords')\n",
    "\n",
    "try:\n",
    "    nltk.data.find('tokenizers/punkt')\n",
    "except nltk.downloader.DownloadError:\n",
    "    nltk.download('punkt')\n",
    "\n",
    "\n",
    "\n",
    "data = [\n",
    "    (\"I love this product! It's amazing.\", \"positive\"),\n",
    "    (\"This is a terrible experience.\", \"negative\"),\n",
    "    (\"The service was okay, nothing special.\", \"neutral\"),\n",
    "    (\"Absolutely fantastic, highly recommend.\", \"positive\"),\n",
    "    (\"I'm very disappointed with the quality.\", \"negative\"),\n",
    "    (\"It works fine.\", \"neutral\"),\n",
    "    (\"Great customer support and fast delivery.\", \"positive\"),\n",
    "    (\"Worst purchase ever, completely useless.\", \"negative\"),\n",
    "    (\"The movie was neither good nor bad.\", \"neutral\"),\n",
    "    (\"Feeling happy today!\", \"positive\"),\n",
    "    (\"This made me so angry.\", \"negative\"),\n",
    "    (\"It's an average day.\", \"neutral\"),\n",
    "    (\"Excellent performance and design.\", \"positive\"),\n",
    "    (\"Such a frustrating issue.\", \"negative\"),\n",
    "    (\"The weather is mild.\", \"neutral\"),\n",
    "    (\"Highly satisfied with the results.\", \"positive\"),\n",
    "    (\"I regret buying this.\", \"negative\"),\n",
    "    (\"It's just a regular item.\", \"neutral\"),\n",
    "    (\"What a wonderful surprise!\", \"positive\"),\n",
    "    (\"This is utterly unacceptable.\", \"negative\"),\n",
    "]\n",
    "\n",
    "# Separate texts and labels\n",
    "texts = [item[0] for item in data]\n",
    "labels = [item[1] for item in data]\n",
    "\n",
    "#Text Preprocessing Function\n",
    "\n",
    "def preprocess_text(text):\n",
    "    text = text.lower()\n",
    "    text = re.sub(r'[^a-z\\s]', '', text)\n",
    "    tokens = word_tokenize(text)\n",
    "    stop_words = set(stopwords.words('english'))\n",
    "    filtered_tokens = [word for word in tokens if word not in stop_words]\n",
    "    return \" \".join(filtered_tokens)\n",
    "\n",
    "# Apply preprocessing to all texts in the dataset\n",
    "processed_texts = [preprocess_text(text) for text in texts]\n",
    "\n",
    "#  Feature Extraction (TF-IDF Vectorization)\n",
    "\n",
    "vectorizer = TfidfVectorizer(max_features=1000)\n",
    "X = vectorizer.fit_transform(processed_texts)\n",
    "\n",
    "# Split Data into Training and Testing Sets\n",
    "X_train, X_test, y_train, y_test = train_test_split(X, labels, test_size=0.2, random_state=42)\n",
    "\n",
    "# Train the Sentiment Analysis Model\n",
    "# Logistic Regression is a good baseline model for classification tasks.\n",
    "model = LogisticRegression(max_iter=1000)\n",
    "model.fit(X_train, y_train)\n",
    "\n",
    "# Evaluate the Model\n",
    "# Predict sentiments on the test set\n",
    "y_pred = model.predict(X_test)\n",
    "# Calculate accuracy\n",
    "accuracy = accuracy_score(y_test, y_pred)\n",
    "print(f\"Model Accuracy on Test Set: {accuracy:.2f}\\n\")\n",
    "\n",
    "# Prediction Function for New Text\n",
    "# This function takes new text input, preprocesses it, vectorizes it, and predicts sentiment.\n",
    "def predict_sentiment(new_text):\n",
    "    # Preprocess the new text\n",
    "    processed_new_text = preprocess_text(new_text)\n",
    "    vectorized_new_text = vectorizer.transform([processed_new_text])\n",
    "    # Predict the sentiment\n",
    "    prediction = model.predict(vectorized_new_text)\n",
    "    return prediction[0]\n",
    "\n",
    "# Interactive Testing\n",
    "print(\"Sentiment Analysis Interactive Tester\")\n",
    "print(\"Enter a sentence to get its sentiment (type 'quit' to exit).\")\n",
    "\n",
    "while True:\n",
    "    user_input = input(\"\\nEnter your sentence: \")\n",
    "    if user_input.lower() == 'quit':\n",
    "        print(\"Exiting sentiment analysis tester. Goodbye!\")\n",
    "        break\n",
    "    elif not user_input.strip():\n",
    "        print(\"Please enter a non-empty sentence.\")\n",
    "        continue\n",
    "\n",
    "    sentiment = predict_sentiment(user_input)\n",
    "    print(f\"Sentiment: {sentiment.upper()}\")"
   ]
  }
 ],
 "metadata": {
  "kernelspec": {
   "display_name": "base",
   "language": "python",
   "name": "python3"
  },
  "language_info": {
   "codemirror_mode": {
    "name": "ipython",
    "version": 3
   },
   "file_extension": ".py",
   "mimetype": "text/x-python",
   "name": "python",
   "nbconvert_exporter": "python",
   "pygments_lexer": "ipython3",
   "version": "3.11.5"
  }
 },
 "nbformat": 4,
 "nbformat_minor": 2
}
